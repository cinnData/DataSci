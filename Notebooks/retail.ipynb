{
  "nbformat": 4,
  "nbformat_minor": 0,
  "metadata": {
    "colab": {
      "provenance": [],
      "authorship_tag": "ABX9TyOIUDv5dvDxEwDxB15v+6vA",
      "include_colab_link": true
    },
    "kernelspec": {
      "name": "python3",
      "display_name": "Python 3"
    },
    "language_info": {
      "name": "python"
    }
  },
  "cells": [
    {
      "cell_type": "markdown",
      "metadata": {
        "id": "view-in-github",
        "colab_type": "text"
      },
      "source": [
        "<a href=\"https://colab.research.google.com/github/cinnData/DataSci/blob/main/Notebooks/retail.ipynb\" target=\"_parent\"><img src=\"https://colab.research.google.com/assets/colab-badge.svg\" alt=\"Open In Colab\"/></a>"
      ]
    },
    {
      "cell_type": "markdown",
      "source": [
        "# [DS-06E] Example - Online retail transaction data"
      ],
      "metadata": {
        "id": "AsiYlc8agctg"
      }
    },
    {
      "cell_type": "markdown",
      "source": [
        "## Importing the data"
      ],
      "metadata": {
        "id": "w3tK9cDDgqSa"
      }
    },
    {
      "cell_type": "code",
      "source": [
        "import pandas as pd\n",
        "path = 'https://raw.githubusercontent.com/cinnData/DataSci/main/Data/'\n",
        "filename = path + 'retail.csv.zip'\n",
        "df = pd.read_csv(filename, parse_dates=[4])"
      ],
      "metadata": {
        "id": "jXQ5qURggx38"
      },
      "execution_count": null,
      "outputs": []
    },
    {
      "cell_type": "markdown",
      "source": [
        "## Exploring the data"
      ],
      "metadata": {
        "id": "wshPMpY4g2kV"
      }
    },
    {
      "cell_type": "code",
      "source": [
        "df.info()"
      ],
      "metadata": {
        "id": "amhUc71xg6Jn"
      },
      "execution_count": null,
      "outputs": []
    },
    {
      "cell_type": "code",
      "source": [
        "df.head()"
      ],
      "metadata": {
        "id": "VfEnq3_cg8mj"
      },
      "execution_count": null,
      "outputs": []
    },
    {
      "cell_type": "code",
      "source": [
        "pd.crosstab(df['InvoiceNo'].str.contains('C'), df['Quantity'] < 0)"
      ],
      "metadata": {
        "id": "2rUh5oXxhAxH"
      },
      "execution_count": null,
      "outputs": []
    },
    {
      "cell_type": "markdown",
      "source": [
        "## Q1. New column with the number of days since the invoice was generated"
      ],
      "metadata": {
        "id": "G5T3Jzg3hDkg"
      }
    },
    {
      "cell_type": "code",
      "source": [
        "max_date = df['InvoiceDate'].max()\n",
        "max_date"
      ],
      "metadata": {
        "id": "Da5R8lWBhOTY"
      },
      "execution_count": null,
      "outputs": []
    },
    {
      "cell_type": "code",
      "source": [
        "df['Diff'] = max_date - df['InvoiceDate']\n",
        "df['Diff']"
      ],
      "metadata": {
        "id": "EttTzPA-hjGw"
      },
      "execution_count": null,
      "outputs": []
    },
    {
      "cell_type": "code",
      "source": [
        "df['Diff'] = df['Diff'].dt.days\n",
        "df.head()"
      ],
      "metadata": {
        "id": "7atGdya_hnxF"
      },
      "execution_count": null,
      "outputs": []
    },
    {
      "cell_type": "markdown",
      "source": [
        "## Q2. Group by customer and aggregate to create the RFM data set"
      ],
      "metadata": {
        "id": "C3ldl9YOhrMU"
      }
    },
    {
      "cell_type": "code",
      "source": [
        "RF = df.groupby('CustomerID')['Diff'].agg(['min', 'count'])\n",
        "RF.head()"
      ],
      "metadata": {
        "id": "K_VFGSkKjJ1r"
      },
      "execution_count": null,
      "outputs": []
    },
    {
      "cell_type": "code",
      "source": [
        "RF.columns = ['Recency', 'Frequency']"
      ],
      "metadata": {
        "id": "r-si6qtajs4C"
      },
      "execution_count": null,
      "outputs": []
    },
    {
      "cell_type": "code",
      "source": [
        "df['Monetary'] = df['Quantity']*df['UnitPrice']"
      ],
      "metadata": {
        "id": "EcUZD9-OjtyE"
      },
      "execution_count": null,
      "outputs": []
    },
    {
      "cell_type": "code",
      "source": [
        "M = df.groupby('CustomerID')['Monetary'].sum()\n",
        "M.head()"
      ],
      "metadata": {
        "id": "Mns3qrPHjxIe"
      },
      "execution_count": null,
      "outputs": []
    },
    {
      "cell_type": "code",
      "source": [
        "RFM = RF.merge(M, left_index=True, right_index=True)\n",
        "RFM.head()"
      ],
      "metadata": {
        "id": "EMj3KUTUj0cv"
      },
      "execution_count": null,
      "outputs": []
    },
    {
      "cell_type": "markdown",
      "source": [
        "# Q3. 8-cluster analysis"
      ],
      "metadata": {
        "id": "m2yF6cHpj370"
      }
    },
    {
      "cell_type": "code",
      "source": [
        "RFM.describe()"
      ],
      "metadata": {
        "id": "nTqLhlynj_RJ"
      },
      "execution_count": null,
      "outputs": []
    },
    {
      "cell_type": "code",
      "source": [
        "def normalize(x): return (x - x.min())/(x.max() - x.min())"
      ],
      "metadata": {
        "id": "OEad_TVmkBy1"
      },
      "execution_count": null,
      "outputs": []
    },
    {
      "cell_type": "code",
      "source": [
        "RFM1 = RFM.apply(normalize, axis=0)\n",
        "RFM1.head()"
      ],
      "metadata": {
        "id": "Sy4bBg-XkD-e"
      },
      "execution_count": null,
      "outputs": []
    },
    {
      "cell_type": "code",
      "source": [
        "import scipy.cluster.vq as cluster"
      ],
      "metadata": {
        "id": "xTmB6XT2kGbC"
      },
      "execution_count": null,
      "outputs": []
    },
    {
      "cell_type": "code",
      "source": [
        "centers = cluster.kmeans(RFM1, k_or_guess=8)[0]\n",
        "centers"
      ],
      "metadata": {
        "id": "0OE-wqCHkJfu"
      },
      "execution_count": null,
      "outputs": []
    },
    {
      "cell_type": "code",
      "source": [
        "labels = cluster.vq(RFM1, centers)[0]\n",
        "labels"
      ],
      "metadata": {
        "id": "3t1wyNuykLrL"
      },
      "execution_count": null,
      "outputs": []
    },
    {
      "cell_type": "code",
      "source": [
        "RFM['Segment'] = labels\n",
        "RFM.head()"
      ],
      "metadata": {
        "id": "FiLp4hzVk_f9"
      },
      "execution_count": null,
      "outputs": []
    },
    {
      "cell_type": "code",
      "source": [
        "RFM['Segment'].value_counts()"
      ],
      "metadata": {
        "id": "feGQOuS_lCZd"
      },
      "execution_count": null,
      "outputs": []
    }
  ]
}